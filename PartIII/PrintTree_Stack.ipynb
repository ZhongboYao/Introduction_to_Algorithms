{
 "cells": [
  {
   "attachments": {},
   "cell_type": "markdown",
   "metadata": {},
   "source": [
    "## Print a tree in O(n) using stack"
   ]
  },
  {
   "cell_type": "code",
   "execution_count": 22,
   "metadata": {},
   "outputs": [],
   "source": [
    "import import_ipynb\n",
    "from Stack import Stack"
   ]
  },
  {
   "cell_type": "code",
   "execution_count": 23,
   "metadata": {},
   "outputs": [],
   "source": [
    "class node:\n",
    "    def __init__(self, x=None):\n",
    "        '''\n",
    "        x: value of the node\n",
    "\n",
    "        A node in a binary tree.\n",
    "        '''\n",
    "        self.value = x\n",
    "        self.left = None\n",
    "        self.right = None\n",
    "        self.parent = None"
   ]
  },
  {
   "cell_type": "code",
   "execution_count": 24,
   "metadata": {},
   "outputs": [],
   "source": [
    "class node_unbound:\n",
    "    def __init__(self, x=None):\n",
    "        '''\n",
    "        x: value of the node\n",
    "\n",
    "        A node in an arbitrary rooted tree.\n",
    "        '''\n",
    "        self.value = x\n",
    "        self.left = None\n",
    "        self.right_sibling = None\n",
    "        self.parent = None"
   ]
  },
  {
   "cell_type": "code",
   "execution_count": 25,
   "metadata": {},
   "outputs": [],
   "source": [
    "def print_tree(x:node):\n",
    "    '''\n",
    "    x: the head node of the binary tree\n",
    "\n",
    "    Print all the values in a binary tree using Stack.\n",
    "    '''\n",
    "    stack = Stack([], 100)\n",
    "    stack.push(x)\n",
    "\n",
    "    while stack.empty() is False:\n",
    "        current = stack.pop()\n",
    "        print(current.value)\n",
    "\n",
    "        if current.left is not None:\n",
    "            stack.push(current.left)\n",
    "        if current.right is not None:\n",
    "            stack.push(current.right)\n",
    "\n"
   ]
  },
  {
   "cell_type": "code",
   "execution_count": 26,
   "metadata": {},
   "outputs": [],
   "source": [
    "def print_arbitraryTree(x:node):\n",
    "    '''\n",
    "    x: the root of an arbitrary tree\n",
    "\n",
    "    Print all the values in an arbitrary tree using Stack.\n",
    "    '''\n",
    "    stack = Stack([], 100)\n",
    "    stack.push(x)\n",
    "\n",
    "    while stack.empty() is False:\n",
    "        current = stack.pop()\n",
    "        print(current.value)\n",
    "        child = current.left\n",
    "        while child is not None:\n",
    "            stack.push(child)\n",
    "            child = child.right_sibling"
   ]
  },
  {
   "attachments": {},
   "cell_type": "markdown",
   "metadata": {},
   "source": [
    "## Build the Tree"
   ]
  },
  {
   "cell_type": "code",
   "execution_count": 27,
   "metadata": {},
   "outputs": [],
   "source": [
    "a = node_unbound(11)\n",
    "b = node_unbound(12)\n",
    "c = node_unbound(13)\n",
    "d = node_unbound(14)\n",
    "e = node_unbound(15)\n",
    "f = node_unbound(16)\n",
    "g = node_unbound(17)\n",
    "h = node_unbound(18)\n",
    "i = node_unbound(19)\n",
    "j = node_unbound(20)\n",
    "\n",
    "a.left = b\n",
    "b.parent = a\n",
    "b.right_sibling = c\n",
    "c.parent = a\n",
    "c.right_sibling = d\n",
    "c.left = e\n",
    "d.parent = a\n",
    "d.left = f\n",
    "e.parent = c\n",
    "f.parent = d\n",
    "f.right_sibling = g\n",
    "g.parent = d\n",
    "g.right_sibling = h\n",
    "h.parent = d\n",
    "h.right_sibling = i\n",
    "i.parent = d\n",
    "h.left = j\n",
    "j.parent = h"
   ]
  },
  {
   "attachments": {},
   "cell_type": "markdown",
   "metadata": {},
   "source": [
    "## Print"
   ]
  },
  {
   "cell_type": "code",
   "execution_count": 28,
   "metadata": {},
   "outputs": [
    {
     "name": "stdout",
     "output_type": "stream",
     "text": [
      "11\n",
      "14\n",
      "19\n",
      "18\n",
      "20\n",
      "17\n",
      "16\n",
      "13\n",
      "15\n",
      "12\n"
     ]
    }
   ],
   "source": [
    "print_arbitraryTree(a)"
   ]
  }
 ],
 "metadata": {
  "kernelspec": {
   "display_name": "Python 3",
   "language": "python",
   "name": "python3"
  },
  "language_info": {
   "codemirror_mode": {
    "name": "ipython",
    "version": 3
   },
   "file_extension": ".py",
   "mimetype": "text/x-python",
   "name": "python",
   "nbconvert_exporter": "python",
   "pygments_lexer": "ipython3",
   "version": "3.9.12"
  },
  "orig_nbformat": 4
 },
 "nbformat": 4,
 "nbformat_minor": 2
}
