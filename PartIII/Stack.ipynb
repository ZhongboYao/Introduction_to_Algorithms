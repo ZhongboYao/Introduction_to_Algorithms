{
 "cells": [
  {
   "cell_type": "code",
   "execution_count": 24,
   "metadata": {},
   "outputs": [],
   "source": [
    "class Stack:\n",
    "    def __init__(self, nums:list, size:int):\n",
    "        '''\n",
    "        nums: the values in the stack\n",
    "        size: the maximum length of the stack\n",
    "        '''\n",
    "        self.nums = nums\n",
    "        self.size = size\n",
    "        self.top = len(self.nums) - 1 # Index of the stack's top\n",
    "\n",
    "    def empty(self) -> bool:\n",
    "        '''\n",
    "        To see if the stack is empty.\n",
    "        Returns a bool output indicating whether the stack is empty.\n",
    "        '''\n",
    "        if self.top == -1:\n",
    "            return True\n",
    "        else:\n",
    "            return False\n",
    "    \n",
    "    def push(self, x:int):\n",
    "        '''\n",
    "        x: the element to be put\n",
    "\n",
    "        Push an element onto the stack.\n",
    "        '''\n",
    "        # Overflow detection\n",
    "        if self.top >= self.size - 1:\n",
    "            raise Exception('Overflow')\n",
    "        else:\n",
    "            self.nums.append(x)\n",
    "            self.top += 1\n",
    "\n",
    "    def pop(self):\n",
    "        '''\n",
    "        Pop an element out of the stack from the top.\n",
    "        '''\n",
    "        if self.empty():\n",
    "            raise Exception('Underflow')\n",
    "        else:\n",
    "            item = self.nums[-1]\n",
    "            self.nums = self.nums[:-1]\n",
    "            self.top -= 1\n",
    "        return item"
   ]
  }
 ],
 "metadata": {
  "kernelspec": {
   "display_name": "Python 3",
   "language": "python",
   "name": "python3"
  },
  "language_info": {
   "codemirror_mode": {
    "name": "ipython",
    "version": 3
   },
   "file_extension": ".py",
   "mimetype": "text/x-python",
   "name": "python",
   "nbconvert_exporter": "python",
   "pygments_lexer": "ipython3",
   "version": "3.9.12"
  },
  "orig_nbformat": 4
 },
 "nbformat": 4,
 "nbformat_minor": 2
}
