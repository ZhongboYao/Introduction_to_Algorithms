{
 "cells": [
  {
   "cell_type": "code",
   "execution_count": null,
   "metadata": {},
   "outputs": [],
   "source": [
    "class Queue:\n",
    "    def __init__(self, nums:list, size:int):\n",
    "        '''\n",
    "        nums: the values in the queue\n",
    "        size: the maximum length of the queue\n",
    "        '''\n",
    "        self.nums = nums\n",
    "        self.size = size\n",
    "        self.head = 0 # Index of the queue's head\n",
    "        self.tail = len(self.nums) - 1 # Index of the queue's tail\n",
    "\n",
    "    def empty(self) -> bool:\n",
    "        '''\n",
    "        To see if the queue is empty.\n",
    "        Returns a bool output indicating whether the queue is empty.\n",
    "        '''\n",
    "        if self.tail == -1:\n",
    "            return True\n",
    "        else:\n",
    "            return False\n",
    "    \n",
    "    def enqueue(self, x:int):\n",
    "        '''\n",
    "        x: the element to be put\n",
    "\n",
    "        Push an element into the tail of the queue.\n",
    "        '''\n",
    "        # Overflow detection\n",
    "        if self.tail >= self.size - 1:\n",
    "            raise Exception('Overflow')\n",
    "        else:\n",
    "            self.nums.append(x)\n",
    "            self.tail += 1\n",
    "\n",
    "    def unqueue(self):\n",
    "        '''\n",
    "        Remove an element from the head of the queue.\n",
    "        '''\n",
    "        if self.empty():\n",
    "            raise Exception('Underflow')\n",
    "        else:\n",
    "            self.nums = self.nums[self.head:]\n",
    "            self.tail -= 1"
   ]
  }
 ],
 "metadata": {
  "language_info": {
   "name": "python"
  },
  "orig_nbformat": 4
 },
 "nbformat": 4,
 "nbformat_minor": 2
}
