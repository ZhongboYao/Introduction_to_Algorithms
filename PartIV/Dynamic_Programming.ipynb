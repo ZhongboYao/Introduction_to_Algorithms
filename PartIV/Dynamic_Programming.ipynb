{
 "cells": [
  {
   "cell_type": "code",
   "execution_count": 419,
   "metadata": {},
   "outputs": [],
   "source": [
    "import math"
   ]
  },
  {
   "attachments": {},
   "cell_type": "markdown",
   "metadata": {},
   "source": [
    "## Price Table"
   ]
  },
  {
   "cell_type": "code",
   "execution_count": 420,
   "metadata": {},
   "outputs": [],
   "source": [
    "price = [0, 1, 5, 8, 9, 10, 17, 17, 20, 24, 30] # Index = Length of rod"
   ]
  },
  {
   "attachments": {},
   "cell_type": "markdown",
   "metadata": {},
   "source": [
    "## Naive Method"
   ]
  },
  {
   "cell_type": "code",
   "execution_count": 421,
   "metadata": {},
   "outputs": [],
   "source": [
    "def cut_rod(p:list, n:int) -> int:\n",
    "    '''\n",
    "    A straightforward method of find the optimal solution to cut the rods.\n",
    "\n",
    "    p: price table\n",
    "    n: the length of the rod\n",
    "    return: the optimal revenue\n",
    "    '''\n",
    "    if n == 0:\n",
    "        return 0\n",
    "    \n",
    "    max = -math.inf # tracking the max revenue\n",
    "\n",
    "    for i in range(1, n+1):\n",
    "        r = p[i] + cut_rod(p, n-i)\n",
    "        if r > max:\n",
    "            max = r\n",
    "        \n",
    "    return max"
   ]
  },
  {
   "cell_type": "code",
   "execution_count": 422,
   "metadata": {},
   "outputs": [
    {
     "data": {
      "text/plain": [
       "13"
      ]
     },
     "execution_count": 422,
     "metadata": {},
     "output_type": "execute_result"
    }
   ],
   "source": [
    "revenue = cut_rod(price, 5)\n",
    "revenue"
   ]
  },
  {
   "attachments": {},
   "cell_type": "markdown",
   "metadata": {},
   "source": [
    "## Up-Bottom DP Method"
   ]
  },
  {
   "cell_type": "code",
   "execution_count": 423,
   "metadata": {},
   "outputs": [],
   "source": [
    "h = [-math.inf] * 20\n",
    "h[0] = 0\n",
    "def memoized_cut_rod(p:list, h:list, n:int) -> int:\n",
    "    '''\n",
    "    A up-bottom DP method of finding the best revenue.\n",
    "\n",
    "    p: price table\n",
    "    h: dp table, storing the best value for each scenario\n",
    "    n: rod length\n",
    "    return: the maximum revenue\n",
    "    '''\n",
    "    if n == 0: \n",
    "        return 0\n",
    "    elif h[n] != -math.inf:\n",
    "        return h[n]\n",
    "    else:\n",
    "        max = -math.inf\n",
    "        for i in range(1, n+1):\n",
    "            r = p[i] + memoized_cut_rod(p, h, n-i)\n",
    "            if r > max:\n",
    "                max = r\n",
    "        h[n] = max\n",
    "        return max\n",
    "    "
   ]
  },
  {
   "cell_type": "code",
   "execution_count": 424,
   "metadata": {},
   "outputs": [
    {
     "data": {
      "text/plain": [
       "13"
      ]
     },
     "execution_count": 424,
     "metadata": {},
     "output_type": "execute_result"
    }
   ],
   "source": [
    "revenue = memoized_cut_rod(price, h, 5)\n",
    "revenue"
   ]
  },
  {
   "attachments": {},
   "cell_type": "markdown",
   "metadata": {},
   "source": [
    "## Bottom-up DP Method"
   ]
  },
  {
   "cell_type": "code",
   "execution_count": 425,
   "metadata": {},
   "outputs": [],
   "source": [
    "h = [-math.inf] * 20\n",
    "h[0] = 0\n",
    "def bottom_up_cut_rod(p:list, h:list, n:int) -> int:\n",
    "    '''\n",
    "    A bottom-up DP method of finding the best revenue.\n",
    "\n",
    "    p: price table\n",
    "    h: dp table, storing the best value for each scenario\n",
    "    n: rod length\n",
    "    return: the maximum revenue\n",
    "    '''\n",
    "    for j in range(1, n+1):\n",
    "        max = -math.inf\n",
    "        for i in range(1, j+1):\n",
    "            r = p[i] + h[j-i]\n",
    "            if r > max:\n",
    "                max = r\n",
    "        h[j] = max\n",
    "    return h[n]"
   ]
  },
  {
   "cell_type": "code",
   "execution_count": 426,
   "metadata": {},
   "outputs": [
    {
     "data": {
      "text/plain": [
       "13"
      ]
     },
     "execution_count": 426,
     "metadata": {},
     "output_type": "execute_result"
    }
   ],
   "source": [
    "revenue = bottom_up_cut_rod(price, h, 5)\n",
    "revenue"
   ]
  },
  {
   "attachments": {},
   "cell_type": "markdown",
   "metadata": {},
   "source": [
    "## Solution Generated Bootom-up DP Method"
   ]
  },
  {
   "cell_type": "code",
   "execution_count": 427,
   "metadata": {},
   "outputs": [],
   "source": [
    "h = [-math.inf] * 20\n",
    "h[0] = 0\n",
    "def extended_bottom_up_cut_rod(p:list, h:list, n:int) -> tuple[list, int]:\n",
    "    '''\n",
    "    A bottom-up DP method of finding the best revenue.\n",
    "\n",
    "    p: price table\n",
    "    h: dp table, storing the best value for each scenario\n",
    "    n: rod length\n",
    "    return: the record of the best cuts and the maximum revenue\n",
    "    '''\n",
    "    cut = [0] * (n+1)\n",
    "    for j in range(1, n+1):\n",
    "        max = -math.inf\n",
    "        for i in range(1, j+1):\n",
    "            r = p[i] + h[j-i]\n",
    "            if r > max:\n",
    "                max = r\n",
    "                cut[j] = i\n",
    "        h[j] = max\n",
    "    return cut, h[n]"
   ]
  },
  {
   "cell_type": "code",
   "execution_count": 428,
   "metadata": {},
   "outputs": [
    {
     "data": {
      "text/plain": [
       "([0, 1, 2, 3, 2, 2, 6, 1, 2, 3, 10], 30)"
      ]
     },
     "execution_count": 428,
     "metadata": {},
     "output_type": "execute_result"
    }
   ],
   "source": [
    "cuts, revenue = extended_bottom_up_cut_rod(price, h, 10)\n",
    "cuts, revenue"
   ]
  },
  {
   "attachments": {},
   "cell_type": "markdown",
   "metadata": {},
   "source": [
    "## Dimension Table"
   ]
  },
  {
   "cell_type": "code",
   "execution_count": 429,
   "metadata": {},
   "outputs": [],
   "source": [
    "p = [30, 35, 15, 5, 10, 20, 25]"
   ]
  },
  {
   "attachments": {},
   "cell_type": "markdown",
   "metadata": {},
   "source": [
    "## Bottom-up DP Method"
   ]
  },
  {
   "cell_type": "code",
   "execution_count": 430,
   "metadata": {},
   "outputs": [],
   "source": [
    "def matrix_chain_order(p:list, n:int) -> int:\n",
    "    '''\n",
    "    A bottom-up DP method of finding the minimum times of scalar multiplication.\n",
    "\n",
    "    p: dimension list\n",
    "    n: the number of matrices\n",
    "    return: the minimum number of scalar multiplications\n",
    "    '''\n",
    "    m = [[math.inf] * (n+1) for _ in range(n+1)]\n",
    "\n",
    "    for i in range(0, n+1):\n",
    "        m[i][i] = 0\n",
    "\n",
    "    for l in range(2, n+1):\n",
    "        for i in range(1, n-l+2):\n",
    "            j = i + l - 1\n",
    "            for k in range(i, j):\n",
    "                cost = m[i][k] + m[k+1][j] + p[i-1]*p[k]*p[j]\n",
    "                if cost <= m[i][j]:\n",
    "                    m[i][j] = cost\n",
    "    \n",
    "    return m"
   ]
  },
  {
   "cell_type": "code",
   "execution_count": 431,
   "metadata": {},
   "outputs": [
    {
     "data": {
      "text/plain": [
       "[[0, inf, inf, inf, inf, inf, inf],\n",
       " [inf, 0, 15750, 7875, 9375, 11875, 15125],\n",
       " [inf, inf, 0, 2625, 4375, 7125, 10500],\n",
       " [inf, inf, inf, 0, 750, 2500, 5375],\n",
       " [inf, inf, inf, inf, 0, 1000, 3500],\n",
       " [inf, inf, inf, inf, inf, 0, 5000],\n",
       " [inf, inf, inf, inf, inf, inf, 0]]"
      ]
     },
     "execution_count": 431,
     "metadata": {},
     "output_type": "execute_result"
    }
   ],
   "source": [
    "num = matrix_chain_order(p, 6)\n",
    "num"
   ]
  }
 ],
 "metadata": {
  "kernelspec": {
   "display_name": "Python 3",
   "language": "python",
   "name": "python3"
  },
  "language_info": {
   "codemirror_mode": {
    "name": "ipython",
    "version": 3
   },
   "file_extension": ".py",
   "mimetype": "text/x-python",
   "name": "python",
   "nbconvert_exporter": "python",
   "pygments_lexer": "ipython3",
   "version": "3.9.12"
  },
  "orig_nbformat": 4
 },
 "nbformat": 4,
 "nbformat_minor": 2
}
