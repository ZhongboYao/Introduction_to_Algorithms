{
 "cells": [
  {
   "attachments": {},
   "cell_type": "markdown",
   "metadata": {},
   "source": [
    "## Inverse Finder"
   ]
  },
  {
   "cell_type": "code",
   "execution_count": 97,
   "metadata": {},
   "outputs": [],
   "source": [
    "def check(A, B):\n",
    "    num = 0\n",
    "    pointerA = 0\n",
    "    pointerB = 0\n",
    "    result = []\n",
    "    while pointerA < len(A) and pointerB < len(B):\n",
    "        if A[pointerA] > B[pointerB]:\n",
    "            result.append(B[pointerB])\n",
    "            num += len(A) - pointerA # Very important here. If the current element is larger than B[i], then every later element in A is larger than B[i].\n",
    "            pointerB += 1\n",
    "        else:\n",
    "            result.append(A[pointerA])\n",
    "            pointerA += 1\n",
    "    \n",
    "    while pointerA < len(A):\n",
    "            result.append(A[pointerA])\n",
    "            pointerA += 1\n",
    "    while pointerB < len(B):\n",
    "        result.append(B[pointerB])\n",
    "        pointerB += 1\n",
    "    return result, num"
   ]
  },
  {
   "cell_type": "code",
   "execution_count": 98,
   "metadata": {},
   "outputs": [],
   "source": [
    "def inverse_finder(A):\n",
    "    if len(A) == 1: return A, 0\n",
    "    else: \n",
    "        i = len(A)//2\n",
    "        left = A[:i]\n",
    "        right = A[i:]\n",
    "        left_new, num1 = inverse_finder(left)\n",
    "        right_new, num2 = inverse_finder(right)\n",
    "        sorted, num3 = check(left_new, right_new)\n",
    "        return sorted, num1 + num2 + num3"
   ]
  },
  {
   "cell_type": "code",
   "execution_count": 99,
   "metadata": {},
   "outputs": [
    {
     "name": "stdout",
     "output_type": "stream",
     "text": [
      "([1, 2, 3, 6, 8], 5)\n"
     ]
    }
   ],
   "source": [
    "A = [2, 3, 8, 6, 1]\n",
    "print(inverse_finder(A))"
   ]
  }
 ],
 "metadata": {
  "kernelspec": {
   "display_name": "Python 3",
   "language": "python",
   "name": "python3"
  },
  "language_info": {
   "codemirror_mode": {
    "name": "ipython",
    "version": 3
   },
   "file_extension": ".py",
   "mimetype": "text/x-python",
   "name": "python",
   "nbconvert_exporter": "python",
   "pygments_lexer": "ipython3",
   "version": "3.9.12"
  },
  "orig_nbformat": 4
 },
 "nbformat": 4,
 "nbformat_minor": 2
}
