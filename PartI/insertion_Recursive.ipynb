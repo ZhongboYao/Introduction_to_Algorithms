{
 "cells": [
  {
   "attachments": {},
   "cell_type": "markdown",
   "metadata": {},
   "source": [
    "## Recursive Insetion Sort"
   ]
  },
  {
   "cell_type": "code",
   "execution_count": 32,
   "metadata": {},
   "outputs": [],
   "source": [
    "def insertion_recursive(A:list) -> list:\n",
    "    if len(A) == 1: return A\n",
    "    else:\n",
    "        A_tmp = insertion_recursive(A[:-1])\n",
    "        a = A[-1]\n",
    "        A_tmp.append(a)\n",
    "        for i in range(len(A_tmp)):\n",
    "            if a < A_tmp[i]:\n",
    "                A_tmp[i+1:] = A_tmp[i:-1]\n",
    "                A_tmp[i] = a\n",
    "                break\n",
    "        return A_tmp\n"
   ]
  },
  {
   "cell_type": "code",
   "execution_count": 33,
   "metadata": {},
   "outputs": [
    {
     "name": "stdout",
     "output_type": "stream",
     "text": [
      "[0, 1, 2, 3, 5, 7]\n",
      "[1]\n",
      "[1, 3, 5]\n"
     ]
    }
   ],
   "source": [
    "A = [3, 5, 7, 2, 0, 1]\n",
    "print(insertion_recursive(A))\n",
    "B = [1]\n",
    "print(insertion_recursive(B))"
   ]
  }
 ],
 "metadata": {
  "kernelspec": {
   "display_name": "Python 3",
   "language": "python",
   "name": "python3"
  },
  "language_info": {
   "codemirror_mode": {
    "name": "ipython",
    "version": 3
   },
   "file_extension": ".py",
   "mimetype": "text/x-python",
   "name": "python",
   "nbconvert_exporter": "python",
   "pygments_lexer": "ipython3",
   "version": "3.9.12"
  },
  "orig_nbformat": 4
 },
 "nbformat": 4,
 "nbformat_minor": 2
}
