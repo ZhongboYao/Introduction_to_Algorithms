{
 "cells": [
  {
   "attachments": {},
   "cell_type": "markdown",
   "metadata": {},
   "source": [
    "## Matices Recursive Addition"
   ]
  },
  {
   "cell_type": "code",
   "execution_count": 6,
   "metadata": {},
   "outputs": [],
   "source": [
    "import numpy as np"
   ]
  },
  {
   "cell_type": "code",
   "execution_count": 7,
   "metadata": {},
   "outputs": [],
   "source": [
    "def partition(A:np) -> tuple:\n",
    "    if A.shape[0] >= 2:\n",
    "        half = A.shape[0] // 2\n",
    "    A11 = A[:half, :half]\n",
    "    A12 = A[:half, half:]\n",
    "    A21 = A[half:, :half]\n",
    "    A22 = A[half:, half:]\n",
    "    return A11, A12, A21, A22"
   ]
  },
  {
   "cell_type": "code",
   "execution_count": 8,
   "metadata": {},
   "outputs": [],
   "source": [
    "def matrix_add(C, A, B):\n",
    "    if C.shape[0] == 1:\n",
    "        C[0, 0] = C[0, 0] + A[0, 0] + B[0, 0]\n",
    "    else:\n",
    "        half = C.shape[0] // 2\n",
    "        A11, A12, A21, A22 = partition(A)\n",
    "        B11, B12, B21, B22 = partition(B)\n",
    "        matrix_add(C[:half, :half], A11, B11)\n",
    "        matrix_add(C[:half, half:], A12, B12)\n",
    "        matrix_add(C[half:, :half], A21, B21)\n",
    "        matrix_add(C[half:, half:], A22, B22)\n",
    "    return C"
   ]
  },
  {
   "cell_type": "code",
   "execution_count": 9,
   "metadata": {},
   "outputs": [
    {
     "name": "stdout",
     "output_type": "stream",
     "text": [
      "[[0.92426003 1.66087425]\n",
      " [1.06013184 0.72109816]]\n",
      "[[0.92426003 1.66087425]\n",
      " [1.06013184 0.72109816]]\n"
     ]
    }
   ],
   "source": [
    "a = 2\n",
    "A = np.random.rand(a, a)\n",
    "B = np.random.rand(a, a)\n",
    "C = np.zeros((a, a))\n",
    "print(A + B)\n",
    "C = matrix_add(C, A, B)\n",
    "print(C)"
   ]
  }
 ],
 "metadata": {
  "kernelspec": {
   "display_name": "Python 3",
   "language": "python",
   "name": "python3"
  },
  "language_info": {
   "codemirror_mode": {
    "name": "ipython",
    "version": 3
   },
   "file_extension": ".py",
   "mimetype": "text/x-python",
   "name": "python",
   "nbconvert_exporter": "python",
   "pygments_lexer": "ipython3",
   "version": "3.9.12"
  },
  "orig_nbformat": 4
 },
 "nbformat": 4,
 "nbformat_minor": 2
}
