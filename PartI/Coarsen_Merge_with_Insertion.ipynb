{
 "cells": [
  {
   "attachments": {},
   "cell_type": "markdown",
   "metadata": {},
   "source": [
    "## Coarsen Merge-Sort with Insertion Sort"
   ]
  },
  {
   "cell_type": "code",
   "execution_count": 22,
   "metadata": {},
   "outputs": [],
   "source": [
    "def insertion(A:list) -> list:\n",
    "    for i in range(len(A)):\n",
    "        for j in range(i):\n",
    "            if A[i] < A[j]:\n",
    "                tmp = A[i]\n",
    "                A[j+1:i+1] = A[j:i]\n",
    "                A[j] = tmp\n",
    "                break\n",
    "    return A"
   ]
  },
  {
   "cell_type": "code",
   "execution_count": 23,
   "metadata": {},
   "outputs": [],
   "source": [
    "def merge(A:list, B:list) -> list:\n",
    "    pointerA = 0\n",
    "    pointerB = 0\n",
    "    result = []\n",
    "    while pointerA < len(A) and pointerB < len(B):\n",
    "        if A[pointerA] < B[pointerB]:\n",
    "            result.append(A[pointerA])\n",
    "            pointerA += 1\n",
    "        else:\n",
    "            result.append(B[pointerB])\n",
    "            pointerB += 1\n",
    "\n",
    "    if pointerA < len(A):\n",
    "        while pointerA < len(A):\n",
    "            result.append(A[pointerA])\n",
    "            pointerA += 1\n",
    "    if pointerB < len(B):\n",
    "        while pointerB < len(B):\n",
    "            result.append(B[pointerB])\n",
    "            pointerB += 1\n",
    "    return result"
   ]
  },
  {
   "cell_type": "code",
   "execution_count": 24,
   "metadata": {},
   "outputs": [],
   "source": [
    "def coarsen_sort(A:list, k:int) -> list:\n",
    "    if len(A) < k:\n",
    "        A = insertion(A)\n",
    "        return A\n",
    "    else:\n",
    "        i = len(A) // 2\n",
    "        left = A[:i]\n",
    "        right = A[i:]\n",
    "        left_sorted = coarsen_sort(left, k)\n",
    "        right_sorted = coarsen_sort(right, k)\n",
    "        result = merge(left_sorted, right_sorted)\n",
    "        return result"
   ]
  },
  {
   "cell_type": "code",
   "execution_count": 25,
   "metadata": {},
   "outputs": [
    {
     "name": "stdout",
     "output_type": "stream",
     "text": [
      "[0, 0, 2, 3, 3, 4, 5, 5, 7, 9]\n"
     ]
    }
   ],
   "source": [
    "A = [0, 3, 3, 7, 2, 5, 0, 4, 9, 5]\n",
    "print(coarsen_sort(A, 4))"
   ]
  }
 ],
 "metadata": {
  "kernelspec": {
   "display_name": "Python 3",
   "language": "python",
   "name": "python3"
  },
  "language_info": {
   "codemirror_mode": {
    "name": "ipython",
    "version": 3
   },
   "file_extension": ".py",
   "mimetype": "text/x-python",
   "name": "python",
   "nbconvert_exporter": "python",
   "pygments_lexer": "ipython3",
   "version": "3.9.12"
  },
  "orig_nbformat": 4
 },
 "nbformat": 4,
 "nbformat_minor": 2
}
