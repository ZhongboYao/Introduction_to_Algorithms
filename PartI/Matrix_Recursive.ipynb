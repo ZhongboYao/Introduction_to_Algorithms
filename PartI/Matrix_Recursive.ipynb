{
 "cells": [
  {
   "cell_type": "code",
   "execution_count": 37,
   "metadata": {},
   "outputs": [],
   "source": [
    "import numpy as np"
   ]
  },
  {
   "attachments": {},
   "cell_type": "markdown",
   "metadata": {},
   "source": [
    "## A Recursive Method of Calculation of Matrix Multiplication"
   ]
  },
  {
   "cell_type": "code",
   "execution_count": 38,
   "metadata": {},
   "outputs": [],
   "source": [
    "def partition(A:np) -> tuple:\n",
    "    if A.shape[0] >= 2:\n",
    "        half = A.shape[0] // 2\n",
    "    A11 = A[:half, :half]\n",
    "    A12 = A[:half, half:]\n",
    "    A21 = A[half:, :half]\n",
    "    A22 = A[half:, half:]\n",
    "    return A11, A12, A21, A22"
   ]
  },
  {
   "cell_type": "code",
   "execution_count": 39,
   "metadata": {},
   "outputs": [],
   "source": [
    "def matrix_recursive(C:np, A:np, B:np) -> np:\n",
    "    if C.shape[0] == 1 and C.shape[1] == 1:\n",
    "        C[0, 0] = C[0, 0] + A[0, 0] * B[0, 0]\n",
    "    else:\n",
    "        half = C.shape[0] // 2\n",
    "        A11, A12, A21, A22 = partition(A)\n",
    "        B11, B12, B21, B22 = partition(B)\n",
    "        # C11\n",
    "        matrix_recursive(C[:half, :half], A11, B11)\n",
    "        matrix_recursive(C[:half, :half], A12, B21)\n",
    "        # C12\n",
    "        matrix_recursive(C[:half, half:], A11, B12)\n",
    "        matrix_recursive(C[:half, half:], A12, B22)\n",
    "        # C21\n",
    "        matrix_recursive(C[half:, :half], A21, B11)\n",
    "        matrix_recursive(C[half:, :half], A22, B21)\n",
    "        # C22\n",
    "        matrix_recursive(C[half:, half:], A21, B12)\n",
    "        matrix_recursive(C[half:, half:], A22, B22)\n",
    "    return C"
   ]
  },
  {
   "cell_type": "code",
   "execution_count": 40,
   "metadata": {},
   "outputs": [
    {
     "name": "stdout",
     "output_type": "stream",
     "text": [
      "[[ 7 10]\n",
      " [ 7 10]]\n",
      "[[ 7. 10.]\n",
      " [ 7. 10.]]\n"
     ]
    }
   ],
   "source": [
    "A = np.array([[1, 2], [1, 2]])\n",
    "B = np.array([[1, 2], [3, 4]])\n",
    "C = np.zeros((2, 2))\n",
    "print(A@B)\n",
    "matrix_recursive(C, A, B)\n",
    "print(C)"
   ]
  }
 ],
 "metadata": {
  "kernelspec": {
   "display_name": "Python 3",
   "language": "python",
   "name": "python3"
  },
  "language_info": {
   "codemirror_mode": {
    "name": "ipython",
    "version": 3
   },
   "file_extension": ".py",
   "mimetype": "text/x-python",
   "name": "python",
   "nbconvert_exporter": "python",
   "pygments_lexer": "ipython3",
   "version": "3.9.12"
  },
  "orig_nbformat": 4
 },
 "nbformat": 4,
 "nbformat_minor": 2
}
