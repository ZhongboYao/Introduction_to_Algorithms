{
 "cells": [
  {
   "cell_type": "code",
   "execution_count": 5,
   "metadata": {},
   "outputs": [],
   "source": [
    "import numpy as np"
   ]
  },
  {
   "attachments": {},
   "cell_type": "markdown",
   "metadata": {},
   "source": [
    "## A Recursive Method of Calculation of Matrix Multiplication for Any N"
   ]
  },
  {
   "cell_type": "code",
   "execution_count": 6,
   "metadata": {},
   "outputs": [],
   "source": [
    "def partition(A:np) -> tuple:\n",
    "    if A.shape[0] >= 2:\n",
    "        half = A.shape[0] // 2\n",
    "    A11 = A[:half, :half]\n",
    "    A12 = A[:half, half:]\n",
    "    A21 = A[half:, :half]\n",
    "    A22 = A[half:, half:]\n",
    "    return A11, A12, A21, A22"
   ]
  },
  {
   "cell_type": "code",
   "execution_count": 7,
   "metadata": {},
   "outputs": [],
   "source": [
    "def matrix_recursive(C:np, A:np, B:np) -> np:\n",
    "    flag = 0\n",
    "    if C.shape[0] == 1 and C.shape[1] == 1:\n",
    "        C[0, 0] = C[0, 0] + A[0, 0] * B[0, 0]\n",
    "    else:\n",
    "        col = np.ones((C.shape[0], 1))\n",
    "        row = np.ones((1, C.shape[1]+1)) \n",
    "        if C.shape[0] % 2 != 0 and C.shape[0] != 1:\n",
    "                flag = 1\n",
    "                C = np.concatenate((C, col), axis=1)\n",
    "                C = np.concatenate((C, row), axis=0)\n",
    "                A = np.concatenate((A, col), axis=1)\n",
    "                A = np.concatenate((A, row), axis=0)\n",
    "                B = np.concatenate((B, col), axis=1)\n",
    "                B = np.concatenate((B, row), axis=0)\n",
    "        half = C.shape[0] // 2\n",
    "        A11, A12, A21, A22 = partition(A)\n",
    "        B11, B12, B21, B22 = partition(B)\n",
    "        # C11\n",
    "        matrix_recursive(C[:half, :half], A11, B11)\n",
    "        matrix_recursive(C[:half, :half], A12, B21)\n",
    "        # C12\n",
    "        matrix_recursive(C[:half, half:], A11, B12)\n",
    "        matrix_recursive(C[:half, half:], A12, B22)\n",
    "        # C21\n",
    "        matrix_recursive(C[half:, :half], A21, B11)\n",
    "        matrix_recursive(C[half:, :half], A22, B21)\n",
    "        # C22\n",
    "        matrix_recursive(C[half:, half:], A21, B12)\n",
    "        matrix_recursive(C[half:, half:], A22, B22)\n",
    "    if flag:\n",
    "        return C[:-1, :-1] - 1\n",
    "    else:\n",
    "        return C"
   ]
  },
  {
   "cell_type": "code",
   "execution_count": 8,
   "metadata": {},
   "outputs": [
    {
     "name": "stdout",
     "output_type": "stream",
     "text": [
      "[[0.03174229 0.11018992]\n",
      " [0.34355065 0.67076762]]\n",
      "[[0.03174229 0.11018992]\n",
      " [0.34355065 0.67076762]]\n"
     ]
    }
   ],
   "source": [
    "a = 2\n",
    "A = np.random.rand(a, a)\n",
    "B = np.random.rand(a, a)\n",
    "C = np.zeros((a, a))\n",
    "print(A @ B)\n",
    "C = matrix_recursive(C, A, B)\n",
    "print(C)"
   ]
  }
 ],
 "metadata": {
  "kernelspec": {
   "display_name": "Python 3",
   "language": "python",
   "name": "python3"
  },
  "language_info": {
   "codemirror_mode": {
    "name": "ipython",
    "version": 3
   },
   "file_extension": ".py",
   "mimetype": "text/x-python",
   "name": "python",
   "nbconvert_exporter": "python",
   "pygments_lexer": "ipython3",
   "version": "3.9.12"
  },
  "orig_nbformat": 4
 },
 "nbformat": 4,
 "nbformat_minor": 2
}
