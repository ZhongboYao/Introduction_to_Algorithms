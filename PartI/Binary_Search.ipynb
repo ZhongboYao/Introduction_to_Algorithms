{
 "cells": [
  {
   "attachments": {},
   "cell_type": "markdown",
   "metadata": {},
   "source": [
    "## Binary Search"
   ]
  },
  {
   "cell_type": "code",
   "execution_count": 19,
   "metadata": {},
   "outputs": [],
   "source": [
    "def binary_search(A:list, tar, start=0) -> int:\n",
    "    i = len(A) // 2\n",
    "    if A[i] == tar: return start + i\n",
    "    elif i == 0 and A[i] != tar: return False\n",
    "    else:\n",
    "        left = A[:i]\n",
    "        right = A[i:]\n",
    "        if A[i] <= tar: result = binary_search(right, tar, start+i)\n",
    "        else: result = binary_search(left, tar, start)\n",
    "    return result"
   ]
  },
  {
   "cell_type": "code",
   "execution_count": 20,
   "metadata": {},
   "outputs": [
    {
     "name": "stdout",
     "output_type": "stream",
     "text": [
      "2\n"
     ]
    }
   ],
   "source": [
    "A = [0, 2, 3, 4, 7, 9]\n",
    "print(binary_search(A, 3))"
   ]
  }
 ],
 "metadata": {
  "kernelspec": {
   "display_name": "Python 3",
   "language": "python",
   "name": "python3"
  },
  "language_info": {
   "codemirror_mode": {
    "name": "ipython",
    "version": 3
   },
   "file_extension": ".py",
   "mimetype": "text/x-python",
   "name": "python",
   "nbconvert_exporter": "python",
   "pygments_lexer": "ipython3",
   "version": "3.9.12"
  },
  "orig_nbformat": 4
 },
 "nbformat": 4,
 "nbformat_minor": 2
}
