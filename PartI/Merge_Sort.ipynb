{
 "cells": [
  {
   "attachments": {},
   "cell_type": "markdown",
   "metadata": {},
   "source": [
    "## Merge Sort"
   ]
  },
  {
   "cell_type": "code",
   "execution_count": 59,
   "metadata": {},
   "outputs": [],
   "source": [
    "def merge(L:list, R:list) -> list:\n",
    "    result = []\n",
    "    i = 0\n",
    "    j = 0\n",
    "    while i < len(L) and j < len(R):\n",
    "        if L[i] <= R[j]:\n",
    "            result.append(L[i])\n",
    "            i += 1\n",
    "        else:\n",
    "            result.append(R[j])\n",
    "            j += 1\n",
    "    if i < len(L): # Move the rest of array directly to the final result.\n",
    "        for k in range(i, len(L)): result.append(L[k])\n",
    "    if j < len(R):\n",
    "        for k in range(j, len(R)): result.append(R[k])\n",
    "    return result\n",
    "        "
   ]
  },
  {
   "cell_type": "code",
   "execution_count": 60,
   "metadata": {},
   "outputs": [],
   "source": [
    "def merge_sort(nums:list) -> list:\n",
    "    split = len(nums)//2\n",
    "    if split == 0:\n",
    "        return nums\n",
    "    else:\n",
    "        L = nums[:split]\n",
    "        R = nums[split:]\n",
    "        r1 = merge_sort(L)\n",
    "        r2 = merge_sort(R)\n",
    "        result = merge(r1, r2)\n",
    "    return result"
   ]
  },
  {
   "cell_type": "code",
   "execution_count": 61,
   "metadata": {},
   "outputs": [
    {
     "data": {
      "text/plain": [
       "[1, 2, 3, 4, 5, 7, 7, 9]"
      ]
     },
     "execution_count": 61,
     "metadata": {},
     "output_type": "execute_result"
    }
   ],
   "source": [
    "nums = [4, 7, 1, 2, 7, 3, 9, 5]\n",
    "merge_sort(nums)"
   ]
  }
 ],
 "metadata": {
  "kernelspec": {
   "display_name": "Python 3",
   "language": "python",
   "name": "python3"
  },
  "language_info": {
   "codemirror_mode": {
    "name": "ipython",
    "version": 3
   },
   "file_extension": ".py",
   "mimetype": "text/x-python",
   "name": "python",
   "nbconvert_exporter": "python",
   "pygments_lexer": "ipython3",
   "version": "3.9.12"
  },
  "orig_nbformat": 4
 },
 "nbformat": 4,
 "nbformat_minor": 2
}
