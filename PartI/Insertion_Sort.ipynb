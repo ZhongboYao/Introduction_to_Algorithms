{
 "cells": [
  {
   "attachments": {},
   "cell_type": "markdown",
   "metadata": {},
   "source": [
    "## Insertion Sort"
   ]
  },
  {
   "cell_type": "code",
   "execution_count": 42,
   "metadata": {},
   "outputs": [],
   "source": [
    "def insertion_sort(nums: list) -> list:\n",
    "    if len(nums) == 1: return nums\n",
    "    for i in range(1, len(nums)):\n",
    "        if nums[i] < nums[i-1]:\n",
    "            j = 0\n",
    "            ele = nums[i] # Store the element before the replacement.\n",
    "            while nums[i] > nums[j]:\n",
    "                j += 1\n",
    "            nums[j+1:i+1] = nums[j:i] # Move the whole part of the array.\n",
    "            nums[j] = ele\n",
    "    return nums"
   ]
  },
  {
   "cell_type": "code",
   "execution_count": 43,
   "metadata": {},
   "outputs": [],
   "source": [
    "# nums = [0, 3, 6, 1, 2, 9, 5, 4]\n",
    "# a = insertion_sort(nums)\n",
    "# nums = [3, 6, 1, 5, 8, 3, 7, 2]\n",
    "# b = insertion_sort(nums)\n",
    "# nums = [1]\n",
    "# c = insertion_sort(nums)\n",
    "\n",
    "# print(a, b, c)"
   ]
  },
  {
   "attachments": {},
   "cell_type": "markdown",
   "metadata": {},
   "source": [
    "## Insertion Sort Decreased"
   ]
  },
  {
   "cell_type": "code",
   "execution_count": 44,
   "metadata": {},
   "outputs": [],
   "source": [
    "def insertion_de(nums:list) -> list:\n",
    "    for i in range(len(nums)):\n",
    "        for j in range(i):\n",
    "            if nums[j] < nums[i]:\n",
    "                tmp = nums[i]\n",
    "                nums[j+1:i+1] = nums[j:i]\n",
    "                nums[j] = tmp\n",
    "                break\n",
    "    return nums\n"
   ]
  },
  {
   "cell_type": "code",
   "execution_count": 45,
   "metadata": {},
   "outputs": [
    {
     "name": "stdout",
     "output_type": "stream",
     "text": [
      "[9, 6, 5, 4, 3, 2, 1, 0] [8, 7, 6, 5, 3, 3, 2, 1] [1]\n"
     ]
    }
   ],
   "source": [
    "nums = [0, 3, 6, 1, 2, 9, 5, 4]\n",
    "a = insertion_de(nums)\n",
    "nums = [3, 6, 1, 5, 8, 3, 7, 2]\n",
    "b = insertion_de(nums)\n",
    "nums = [1]\n",
    "c = insertion_de(nums)\n",
    "\n",
    "print(a, b, c)"
   ]
  }
 ],
 "metadata": {
  "kernelspec": {
   "display_name": "Python 3",
   "language": "python",
   "name": "python3"
  },
  "language_info": {
   "codemirror_mode": {
    "name": "ipython",
    "version": 3
   },
   "file_extension": ".py",
   "mimetype": "text/x-python",
   "name": "python",
   "nbconvert_exporter": "python",
   "pygments_lexer": "ipython3",
   "version": "3.9.12"
  },
  "orig_nbformat": 4
 },
 "nbformat": 4,
 "nbformat_minor": 2
}
