{
 "cells": [
  {
   "attachments": {},
   "cell_type": "markdown",
   "metadata": {},
   "source": [
    "## Add Binary Integers"
   ]
  },
  {
   "cell_type": "code",
   "execution_count": 60,
   "metadata": {},
   "outputs": [],
   "source": [
    "def add_binary(A:list, B:list) -> list:\n",
    "    def add_bit(a, b, c):\n",
    "        result = a + b + c\n",
    "        if result >= 2:\n",
    "            result -= 2\n",
    "            c = 1\n",
    "        else:\n",
    "            c = 0\n",
    "        return result, c\n",
    "\n",
    "    C = []\n",
    "    c = 0\n",
    "    length = min(len(A), len(B))\n",
    "    for i in range(length):\n",
    "        result, c = add_bit(A[-i-1], B[-i-1], c)\n",
    "        C.append(result)\n",
    "    if len(A) < len(B):\n",
    "        for i in range(len(B) - len(A)):\n",
    "            result, c = add_bit(B[len(B) - length - i + 1], 0, c)\n",
    "            C.append(result)\n",
    "    elif len(B) < len(A):\n",
    "        for i in range(len(A) - len(B)):\n",
    "            result, c = add_bit(A[len(A) - length - i + 1], 0, c)\n",
    "            C.append(result)\n",
    "    if c == 1:\n",
    "        C.append(1)\n",
    "    return C[::-1]\n",
    "\n"
   ]
  },
  {
   "cell_type": "code",
   "execution_count": 62,
   "metadata": {},
   "outputs": [
    {
     "name": "stdout",
     "output_type": "stream",
     "text": [
      "[1, 0, 0, 0, 0, 1]\n"
     ]
    }
   ],
   "source": [
    "A = [1, 0, 1, 0, 1]\n",
    "B =    [1, 1, 0, 0]\n",
    "print(add_binary(A, B))"
   ]
  }
 ],
 "metadata": {
  "kernelspec": {
   "display_name": "Python 3",
   "language": "python",
   "name": "python3"
  },
  "language_info": {
   "codemirror_mode": {
    "name": "ipython",
    "version": 3
   },
   "file_extension": ".py",
   "mimetype": "text/x-python",
   "name": "python",
   "nbconvert_exporter": "python",
   "pygments_lexer": "ipython3",
   "version": "3.9.12"
  },
  "orig_nbformat": 4
 },
 "nbformat": 4,
 "nbformat_minor": 2
}
