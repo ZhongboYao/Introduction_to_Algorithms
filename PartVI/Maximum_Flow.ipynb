{
 "cells": [
  {
   "cell_type": "code",
   "execution_count": null,
   "metadata": {},
   "outputs": [],
   "source": [
    "def ford_fulkerson(G, s, t):\n",
    "    for edge in G.E:\n",
    "        edge.f = 0\n",
    "    while augmenting_path_exists == 1:\n",
    "        c = min(c in augmenting_paths)\n",
    "        for edge in augmenting_paths:\n",
    "            if edge in G.E:\n",
    "                edge.f = edge.f + c\n",
    "            else:\n",
    "                edge.f = - edge.f - c\n",
    "    return f"
   ]
  }
 ],
 "metadata": {
  "language_info": {
   "name": "python"
  },
  "orig_nbformat": 4
 },
 "nbformat": 4,
 "nbformat_minor": 2
}
