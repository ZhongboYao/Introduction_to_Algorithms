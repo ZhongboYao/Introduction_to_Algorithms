{
 "cells": [
  {
   "attachments": {},
   "cell_type": "markdown",
   "metadata": {},
   "source": [
    "## DFS for a Graph"
   ]
  },
  {
   "cell_type": "code",
   "execution_count": 1,
   "metadata": {},
   "outputs": [
    {
     "ename": "NameError",
     "evalue": "name 'Graph' is not defined",
     "output_type": "error",
     "traceback": [
      "\u001b[0;31m---------------------------------------------------------------------------\u001b[0m",
      "\u001b[0;31mNameError\u001b[0m                                 Traceback (most recent call last)",
      "Cell \u001b[0;32mIn[1], line 1\u001b[0m\n\u001b[0;32m----> 1\u001b[0m \u001b[39mdef\u001b[39;00m \u001b[39mDFS\u001b[39m(G:Graph, s:vertex):\n\u001b[1;32m      2\u001b[0m     \u001b[39mfor\u001b[39;00m v \u001b[39min\u001b[39;00m Vertices:\n\u001b[1;32m      3\u001b[0m         v\u001b[39m.\u001b[39mcolor \u001b[39m=\u001b[39m \u001b[39m'\u001b[39m\u001b[39mWhite\u001b[39m\u001b[39m'\u001b[39m\n",
      "\u001b[0;31mNameError\u001b[0m: name 'Graph' is not defined"
     ]
    }
   ],
   "source": [
    "def DFS(G:Graph, s:vertex):\n",
    "    for v in Vertices:\n",
    "        v.color = 'White'\n",
    "        v.parent = None\n",
    "    time = 0\n",
    "    for v in Vertices:\n",
    "        if v.color == 'White':\n",
    "            time = DFS_VISIT(G, v, time)\n",
    "\n",
    "def DFS_VISIT(G:Graph, v:vertex) -> int:\n",
    "    time += 1\n",
    "    v.start = time\n",
    "    v.color = 'Gray'\n",
    "    for u in G.Adj[v]:\n",
    "        if u.colr == 'White':\n",
    "            u.parent = v\n",
    "            DFS_VISIT(G, u)\n",
    "    time += 1\n",
    "    v.finish = time\n",
    "    v.color = 'Black'"
   ]
  },
  {
   "cell_type": "code",
   "execution_count": null,
   "metadata": {},
   "outputs": [],
   "source": []
  }
 ],
 "metadata": {
  "kernelspec": {
   "display_name": "Python 3",
   "language": "python",
   "name": "python3"
  },
  "language_info": {
   "codemirror_mode": {
    "name": "ipython",
    "version": 3
   },
   "file_extension": ".py",
   "mimetype": "text/x-python",
   "name": "python",
   "nbconvert_exporter": "python",
   "pygments_lexer": "ipython3",
   "version": "3.9.12"
  },
  "orig_nbformat": 4
 },
 "nbformat": 4,
 "nbformat_minor": 2
}
