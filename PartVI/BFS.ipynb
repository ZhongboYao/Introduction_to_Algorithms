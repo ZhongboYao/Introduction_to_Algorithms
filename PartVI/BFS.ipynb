{
 "cells": [
  {
   "attachments": {},
   "cell_type": "markdown",
   "metadata": {},
   "source": [
    "## BFS for a Graph"
   ]
  },
  {
   "cell_type": "code",
   "execution_count": null,
   "metadata": {},
   "outputs": [],
   "source": [
    "def BFS(G:Graph, s:vertex):\n",
    "    for v in Vertices:\n",
    "        v.color = 'white'\n",
    "        v.distance = 'inf'\n",
    "    \n",
    "    Q = [] # Queue\n",
    "    Q.append(s)\n",
    "    s.d = 0\n",
    "\n",
    "    while Q is not None:\n",
    "        u = Dequeue(Q)\n",
    "        for v in G.Adj[u]:\n",
    "            if v.color is not 'Black':\n",
    "                Q.append(v)\n",
    "                v.d = u.d + 1\n",
    "        u.color = 'Black'"
   ]
  }
 ],
 "metadata": {
  "language_info": {
   "name": "python"
  },
  "orig_nbformat": 4
 },
 "nbformat": 4,
 "nbformat_minor": 2
}
