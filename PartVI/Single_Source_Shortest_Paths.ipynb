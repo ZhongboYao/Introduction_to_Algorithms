{
 "cells": [
  {
   "cell_type": "code",
   "execution_count": null,
   "metadata": {},
   "outputs": [],
   "source": [
    "def initialize_single_source(G, s):\n",
    "    '''\n",
    "    Initialize the vertices in G for the single source shortest problem.\n",
    "\n",
    "    G: the graph.\n",
    "    s: the disignated source of the problem.\n",
    "    '''\n",
    "    for v in G.V:\n",
    "        v.parent = None\n",
    "        v.d = 'inf' # Upper bound of the weight\n",
    "    s.d = 0"
   ]
  },
  {
   "cell_type": "code",
   "execution_count": null,
   "metadata": {},
   "outputs": [],
   "source": [
    "def relax(u, v, w):\n",
    "    '''\n",
    "    Test if the visit v from u has a smaller weight compared with the previously calculated one.\n",
    "    If so, update the upperbound to the smaller one.\n",
    "\n",
    "    w: weight list.\n",
    "    '''\n",
    "    if v.d > u.d + w(u, v):\n",
    "        v.d = u.d + w(u, v)\n",
    "        v.parnet = u"
   ]
  },
  {
   "cell_type": "code",
   "execution_count": null,
   "metadata": {},
   "outputs": [],
   "source": [
    "def bellman_ford(G, w, s) -> bool:\n",
    "    '''\n",
    "    Find the smallest paths using Bellman Ford algorithm.\n",
    "\n",
    "    return: Whether the graph contains negative cycles.\n",
    "    '''\n",
    "    initialize_single_source(G, s)\n",
    "\n",
    "    for i in range(len(G.V)):\n",
    "        for edge in G.E:\n",
    "            relax(edge.u, edge.v, w)\n",
    "    \n",
    "    # Check if there are negative cycles.\n",
    "    for edge in G.E:\n",
    "        if edge.v.d > edge.u.d + w(edge.u, edge.v):\n",
    "            return False\n",
    "    return True"
   ]
  },
  {
   "cell_type": "code",
   "execution_count": null,
   "metadata": {},
   "outputs": [],
   "source": [
    "def dijkstra(G, w, s):\n",
    "    '''\n",
    "    Find the shortest single source path using Dijsktra's algorithm.\n",
    "\n",
    "    G: graph.\n",
    "    w: weights of the grapg.\n",
    "    s: the start node.\n",
    "    '''\n",
    "    S = []\n",
    "    Q = None\n",
    "    for u in G.V:\n",
    "        insert(Q, u)\n",
    "    while Q is not None:\n",
    "        u = extract_min(Q)\n",
    "        S = S.append(u)\n",
    "        for v in G.Adj[u]:\n",
    "            relax(u, v, w)\n",
    "            if v.d < u.d:\n",
    "                decrease_key(Q, v, v.d)"
   ]
  }
 ],
 "metadata": {
  "language_info": {
   "name": "python"
  },
  "orig_nbformat": 4
 },
 "nbformat": 4,
 "nbformat_minor": 2
}
