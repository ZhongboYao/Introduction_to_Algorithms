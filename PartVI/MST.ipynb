{
 "cells": [
  {
   "cell_type": "code",
   "execution_count": null,
   "metadata": {},
   "outputs": [],
   "source": [
    "import import_ipynb\n",
    "from Randomised_quicksort import quicksort"
   ]
  },
  {
   "cell_type": "code",
   "execution_count": null,
   "metadata": {},
   "outputs": [],
   "source": [
    "def Generic_MST(G, w) -> list:\n",
    "    '''\n",
    "    Generate a minimum spanning tree given a graph.\n",
    "\n",
    "    G: the graph.\n",
    "    w: the weights of the edges.\n",
    "    return: the minimum spanning tree\n",
    "    '''\n",
    "    A = []\n",
    "    while A is not MST: \n",
    "        edge = Find_edge(G, w)\n",
    "        A = A.append(edge) # This step can be defined further as A should be a tree.\n",
    "    return A"
   ]
  },
  {
   "cell_type": "code",
   "execution_count": null,
   "metadata": {},
   "outputs": [],
   "source": [
    "def MST_Kruskal(G, w) -> list:\n",
    "    '''\n",
    "    Generate a minimum spanning tree using Kruskal's algorithm.\n",
    "\n",
    "    G: graph.\n",
    "    w: the weights of the edges.\n",
    "    return: the \n",
    "    '''\n",
    "    A = []\n",
    "\n",
    "    for v in G.V:\n",
    "        MakeSet(v) # At first, all the nodes are treaded as isolated sets.\n",
    "\n",
    "    edges_sorted = quick_sort(G.E)\n",
    "\n",
    "    for edge in edges:\n",
    "        if FindSet(edge.v) != FindSet(edge.u): # This step is used to see wheter u and v are already connected.\n",
    "            A = A.append(edge)\n",
    "            Union(u, v)\n",
    "    \n",
    "    return A"
   ]
  },
  {
   "cell_type": "code",
   "execution_count": null,
   "metadata": {},
   "outputs": [],
   "source": [
    "def MST_Prim(G, w, r) -> Node:\n",
    "    '''\n",
    "    Generate a minimum spanning tree using Prim's algorithm.\n",
    "\n",
    "    G: the graph.\n",
    "    w: the weights of the edges.\n",
    "    r: the root of the minimum spanning tree.\n",
    "    return: the root of the minimum spanning tree.\n",
    "    '''\n",
    "\n",
    "    for v in G.V:\n",
    "        v.cost = 'inf' # It is the minimum cost by connecting v with any other its direct neighbor.\n",
    "        v.parent = None\n",
    "    r.cost = 0 # Force the growing of the tree to start from the root.\n",
    "\n",
    "    Q = Priority_Queue()\n",
    "\n",
    "    for v in G.v:\n",
    "        Q.insert(v)\n",
    "\n",
    "    while Q.size != 0:\n",
    "        v = Q.extract_min()\n",
    "        for u in G.Adj[v]:\n",
    "            if u in Q and w(v, u) < u.cost:\n",
    "                u.parent = v\n",
    "                u.cost = w(u, v)\n",
    "                Q.decrease_key(Q, u, w(u, v))\n"
   ]
  }
 ],
 "metadata": {
  "language_info": {
   "name": "python"
  },
  "orig_nbformat": 4
 },
 "nbformat": 4,
 "nbformat_minor": 2
}
