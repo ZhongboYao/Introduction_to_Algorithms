{
 "cells": [
  {
   "attachments": {},
   "cell_type": "markdown",
   "metadata": {},
   "source": [
    "## Merge k sorted lists in O(nlgk)"
   ]
  },
  {
   "cell_type": "code",
   "execution_count": 17,
   "metadata": {},
   "outputs": [],
   "source": [
    "import math"
   ]
  },
  {
   "cell_type": "code",
   "execution_count": 18,
   "metadata": {},
   "outputs": [],
   "source": [
    "class tree:\n",
    "    def __init__(self, n:list):\n",
    "        self.n = [(-100, 0, 0)] + n\n",
    "        self.size = len(n)\n",
    "\n",
    "class minheap:\n",
    "    def _left(self, i:int) -> int:\n",
    "        return 2*i\n",
    "    def _right(self, i:int) -> int:\n",
    "        return 2*i+1\n",
    "    def _parent(self, i:int) -> int:\n",
    "        return i//2\n",
    "    \n",
    "    def maintenance(self, A:tree, i:int) -> tree:\n",
    "        # float down a specific element\n",
    "        smallest = i\n",
    "        l = self._left(i)\n",
    "        r = self._right(i)\n",
    "\n",
    "        if l <= A.size:\n",
    "            if A.n[l][0] < A.n[smallest][0]: smallest = l\n",
    "        if r <= A.size:\n",
    "            if A.n[r][0] < A.n[smallest][0]: smallest = r\n",
    "        \n",
    "        if smallest != i:\n",
    "            A.n[i], A.n[smallest] = A.n[smallest], A.n[i]\n",
    "            self.maintenance(A, smallest)\n",
    "\n",
    "        return A\n",
    "    \n",
    "    def build(self, A:tree) -> tree:\n",
    "        # build the whole tree given an array\n",
    "        for i in reversed(range(1, (A.size+1)//2+1)): \n",
    "            self.maintenance(A, i)\n",
    "        return A\n",
    "    \n",
    "    def decrease(self, A:tree, i:int, k:tuple) -> tree:\n",
    "        # modify the value of a node\n",
    "        if k[0] > A.n[i][0]: \n",
    "            return\n",
    "        A.n[i] = k\n",
    "        parent = self._parent(i)\n",
    "        while A.n[i][0] < A.n[parent][0]:\n",
    "            A.n[i], A.n[parent] = A.n[parent], A.n[i]\n",
    "            i = parent\n",
    "            parent = self._parent(i)\n",
    "\n",
    "        return A\n",
    "    \n",
    "    def insert(self, A:tree, k:tuple) -> tree:\n",
    "        # insert a node to the tree\n",
    "        A.size += 1\n",
    "        A.n.append((math.inf, k[1]))\n",
    "        A = self.decrease(A, A.size, k)\n",
    "        return A\n",
    "    \n",
    "    def extract_min(self, A:tree) -> tuple:\n",
    "        # return and remove the smallest node in the tree\n",
    "        A.n[1], A.n[-1] = A.n[-1], A.n[1]\n",
    "        smallest = A.n[-1]\n",
    "        A.size -= 1\n",
    "        A.n = A.n[:-1]\n",
    "        self.maintenance(A, 1)\n",
    "        return A, smallest"
   ]
  },
  {
   "cell_type": "code",
   "execution_count": 19,
   "metadata": {},
   "outputs": [],
   "source": [
    "def merge(A: list) -> list:\n",
    "    min_heap = tree([])\n",
    "    result = []\n",
    "    heap = minheap()\n",
    "\n",
    "    for k in range(len(A)):\n",
    "        heap.insert(min_heap, (A[k][0], k))\n",
    "        A[k].pop(0)\n",
    "\n",
    "    while min_heap.size > 0:\n",
    "        min_heap, smallest = heap.extract_min(min_heap)\n",
    "        result.append(smallest[0])\n",
    "        if A[smallest[1]]:\n",
    "            heap.insert(min_heap, (A[smallest[1]][0], smallest[1]))\n",
    "            A[smallest[1]].pop(0)\n",
    "        else:\n",
    "            for k in range(len(A)):\n",
    "                if A[k]:\n",
    "                    heap.insert(min_heap, (A[k][0], k))\n",
    "                    A[k].pop(0)\n",
    "                    break            \n",
    "    return result"
   ]
  },
  {
   "cell_type": "code",
   "execution_count": 20,
   "metadata": {},
   "outputs": [
    {
     "data": {
      "text/plain": [
       "[0, 2, 3, 3, 4, 4, 4, 6, 7, 7, 7, 8, 9, 11, 14, 18, 20, 24, 25, 26, 69, 89]"
      ]
     },
     "execution_count": 20,
     "metadata": {},
     "output_type": "execute_result"
    }
   ],
   "source": [
    "A = [[0, 3, 4, 7, 7, 11, 24, 25],\n",
    "     [3, 4, 6, 8, 9, 14, 18, 26, 69, 89],\n",
    "     [2, 4, 7, 20]]\n",
    "merge(A)"
   ]
  }
 ],
 "metadata": {
  "kernelspec": {
   "display_name": "Python 3",
   "language": "python",
   "name": "python3"
  },
  "language_info": {
   "codemirror_mode": {
    "name": "ipython",
    "version": 3
   },
   "file_extension": ".py",
   "mimetype": "text/x-python",
   "name": "python",
   "nbconvert_exporter": "python",
   "pygments_lexer": "ipython3",
   "version": "3.9.12"
  },
  "orig_nbformat": 4
 },
 "nbformat": 4,
 "nbformat_minor": 2
}
