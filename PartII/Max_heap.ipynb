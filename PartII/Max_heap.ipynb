{
 "cells": [
  {
   "attachments": {},
   "cell_type": "markdown",
   "metadata": {},
   "source": [
    "## Max-heap"
   ]
  },
  {
   "cell_type": "code",
   "execution_count": 116,
   "metadata": {},
   "outputs": [],
   "source": [
    "class tree:\n",
    "    def __init__(self, n:list):\n",
    "        self.n = [None] + n\n",
    "        self.size = len(n)\n",
    "\n",
    "class maxheap:\n",
    "    def _left(self, i:int) -> int:\n",
    "        return 2*i\n",
    "    def _right(self, i:int) -> int:\n",
    "        return 2*i+1\n",
    "    def _parent(self, i:int) -> int:\n",
    "        return i//2\n",
    "    \n",
    "    def maintenance(self, A:tree, i) -> tree:\n",
    "        # Float down one element.\n",
    "        largest = i\n",
    "        l = self._left(i)\n",
    "        r = self._right(i)\n",
    "\n",
    "        if l <= A.size:\n",
    "            if A.n[l] > A.n[largest]: largest = l\n",
    "        \n",
    "        if r <= A.size:\n",
    "            if A.n[r] > A.n[largest]: largest = r\n",
    "\n",
    "        if largest != i:\n",
    "            A.n[i], A.n[largest] = A.n[largest], A.n[i]\n",
    "            self.maintenance(A, largest)\n",
    "    \n",
    "    def build(self, A:tree) -> tree:\n",
    "        # Reshape an unordered tree into max heap.\n",
    "        for i in reversed(range(1, (A.size+1)//2+1)):\n",
    "            self.maintenance(A, i)\n",
    "        return A\n",
    "    \n",
    "    def heapsort(self, A:tree) -> tree:\n",
    "        # Returns an array in increasing order.\n",
    "        sort = self.build(A)\n",
    "        for i in reversed(range(2, sort.size+1)):\n",
    "            sort.n[i], sort.n[1] = sort.n[1], sort.n[i]\n",
    "            # tmp = sort.n[1]\n",
    "            # sort.n[1:sort.size] = sort.n[2:sort.size+1]\n",
    "            # sort.n[sort.size] = tmp\n",
    "            sort.size -= 1\n",
    "            self.maintenance(sort, 1)\n",
    "        return sort\n",
    "\n",
    "    def maximum(self, A:tree) -> int:\n",
    "        # Returns the maximum value.\n",
    "        sort = self.build(A)\n",
    "        return sort.n[1]\n",
    "    \n",
    "    def extract_max(self, A:tree) -> tuple:\n",
    "        # Remove the largest element and return the element and the tree.\n",
    "        sort = self.build(A)\n",
    "        print(sort.n)\n",
    "        sort.n[1], sort.n[-1] = sort.n[-1], sort.n[1]\n",
    "        value = sort.n[-1]\n",
    "        sort.size -= 1\n",
    "        sort.n = sort.n[:-1]\n",
    "        self.maintenance(sort, 1)\n",
    "        return value, sort"
   ]
  },
  {
   "cell_type": "code",
   "execution_count": 117,
   "metadata": {},
   "outputs": [
    {
     "name": "stdout",
     "output_type": "stream",
     "text": [
      "[None, 20, 20, 11, 5, 7, 9, 7, 3, 3, 5, 3, 2, 1]\n",
      "20\n",
      "[None, 20, 7, 11, 5, 5, 9, 7, 3, 3, 1, 3, 2]\n"
     ]
    }
   ],
   "source": [
    "A = tree([3, 5, 7, 3, 7, 2, 11, 20, 3, 5, 20, 9, 1])\n",
    "max_heap = maxheap()\n",
    "value, sort = max_heap.extract_max(A)\n",
    "print(value)\n",
    "print(sort.n)"
   ]
  }
 ],
 "metadata": {
  "kernelspec": {
   "display_name": "Python 3",
   "language": "python",
   "name": "python3"
  },
  "language_info": {
   "codemirror_mode": {
    "name": "ipython",
    "version": 3
   },
   "file_extension": ".py",
   "mimetype": "text/x-python",
   "name": "python",
   "nbconvert_exporter": "python",
   "pygments_lexer": "ipython3",
   "version": "3.9.12"
  },
  "orig_nbformat": 4
 },
 "nbformat": 4,
 "nbformat_minor": 2
}
