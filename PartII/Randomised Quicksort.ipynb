{
 "cells": [
  {
   "attachments": {},
   "cell_type": "markdown",
   "metadata": {},
   "source": [
    "## Randomised Quicksort"
   ]
  },
  {
   "cell_type": "code",
   "execution_count": 1,
   "metadata": {},
   "outputs": [],
   "source": [
    "import random"
   ]
  },
  {
   "cell_type": "code",
   "execution_count": 2,
   "metadata": {},
   "outputs": [],
   "source": [
    "def partition(A:list, p:int, q:int) -> list:\n",
    "    low_bound = p\n",
    "    high_bound = p\n",
    "\n",
    "    r = random.randint(p, q)\n",
    "    pivot = A[r]\n",
    "    A[r], A[q] = A[q], A[r]\n",
    "\n",
    "    while high_bound <= q-1:\n",
    "        if A[high_bound] <= pivot:\n",
    "            A[low_bound], A[high_bound] = A[high_bound], A[low_bound]     \n",
    "            low_bound += 1\n",
    "        high_bound += 1\n",
    "    \n",
    "    A[low_bound], A[q] = A[q], A[low_bound]\n",
    "\n",
    "    return low_bound"
   ]
  },
  {
   "cell_type": "code",
   "execution_count": 3,
   "metadata": {},
   "outputs": [],
   "source": [
    "def quicksort(A:list, p:int, q:int) -> list:\n",
    "    if p >= q:\n",
    "        return A \n",
    "\n",
    "    pivot = partition(A, p, q)\n",
    "    A = quicksort(A, p, pivot-1)\n",
    "    A = quicksort(A, pivot+1, q)\n",
    "    \n",
    "    return A\n"
   ]
  },
  {
   "cell_type": "code",
   "execution_count": 4,
   "metadata": {},
   "outputs": [
    {
     "name": "stdout",
     "output_type": "stream",
     "text": [
      "[-1, -1, 0, 0, 2, 3, 4, 6, 7, 13, 32, 32, 55]\n"
     ]
    }
   ],
   "source": [
    "A = [3, 6, 7, 0, 4, 13, 55, 32, -1, 0, 32, 2, -1]\n",
    "result = quicksort(A, 0, len(A)-1)\n",
    "print(result)\n"
   ]
  }
 ],
 "metadata": {
  "kernelspec": {
   "display_name": "Python 3",
   "language": "python",
   "name": "python3"
  },
  "language_info": {
   "codemirror_mode": {
    "name": "ipython",
    "version": 3
   },
   "file_extension": ".py",
   "mimetype": "text/x-python",
   "name": "python",
   "nbconvert_exporter": "python",
   "pygments_lexer": "ipython3",
   "version": "3.9.12"
  },
  "orig_nbformat": 4
 },
 "nbformat": 4,
 "nbformat_minor": 2
}
