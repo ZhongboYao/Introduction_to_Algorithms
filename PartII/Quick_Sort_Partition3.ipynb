{
 "cells": [
  {
   "attachments": {},
   "cell_type": "markdown",
   "metadata": {},
   "source": [
    "## 3 Partition"
   ]
  },
  {
   "cell_type": "code",
   "execution_count": 20,
   "metadata": {},
   "outputs": [],
   "source": [
    "def partition_3(A:list, p:int, r:int) -> tuple:\n",
    "    low = p\n",
    "    high = p\n",
    "    mid = r\n",
    "\n",
    "    pivot = A[r]\n",
    "    r -= 1\n",
    "\n",
    "    while high <= mid:\n",
    "        if A[high] < pivot:\n",
    "            A[high], A[low] = A[low], A[high]\n",
    "            low += 1\n",
    "            high += 1\n",
    "        elif A[high] == pivot:\n",
    "            A[high], A[mid] = A[mid], A[high]\n",
    "            mid -= 1\n",
    "        else:\n",
    "            high += 1\n",
    "\n",
    "    for i in range(r-mid+1):\n",
    "        A[low+i], A[mid+1+i] = A[mid+1+i], A[low+i]\n",
    "\n",
    "    return low - 1, low + r - mid"
   ]
  },
  {
   "cell_type": "code",
   "execution_count": 21,
   "metadata": {},
   "outputs": [],
   "source": [
    "def partition3_quicksort(A:list, p:int, q:int) -> list:\n",
    "    if p >= q:\n",
    "        return\n",
    "    \n",
    "    stop1, stop2 = partition_3(A, p, q)\n",
    "    partition3_quicksort(A, p, stop1)\n",
    "    partition3_quicksort(A, stop2, q)\n",
    "    return A"
   ]
  },
  {
   "cell_type": "code",
   "execution_count": 22,
   "metadata": {},
   "outputs": [
    {
     "name": "stdout",
     "output_type": "stream",
     "text": [
      "[0, 1, 2, 3, 4, 4, 4, 5, 5, 6, 7, 7, 8, 8, 9]\n"
     ]
    }
   ],
   "source": [
    "A = [4, 3, 6, 8, 2, 4, 9, 5, 0, 5, 7, 7, 4, 8, 1]\n",
    "result = partition3_quicksort(A, 0, len(A)-1)\n",
    "print(A)"
   ]
  }
 ],
 "metadata": {
  "kernelspec": {
   "display_name": "Python 3",
   "language": "python",
   "name": "python3"
  },
  "language_info": {
   "codemirror_mode": {
    "name": "ipython",
    "version": 3
   },
   "file_extension": ".py",
   "mimetype": "text/x-python",
   "name": "python",
   "nbconvert_exporter": "python",
   "pygments_lexer": "ipython3",
   "version": "3.9.12"
  },
  "orig_nbformat": 4
 },
 "nbformat": 4,
 "nbformat_minor": 2
}
