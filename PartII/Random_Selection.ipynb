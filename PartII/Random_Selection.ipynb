{
 "cells": [
  {
   "attachments": {},
   "cell_type": "markdown",
   "metadata": {},
   "source": [
    "## Random Selection"
   ]
  },
  {
   "cell_type": "code",
   "execution_count": 125,
   "metadata": {},
   "outputs": [],
   "source": [
    "import random"
   ]
  },
  {
   "cell_type": "code",
   "execution_count": 126,
   "metadata": {},
   "outputs": [],
   "source": [
    "def partition(A:list, p:int, q:int) -> int:\n",
    "    lowb = p\n",
    "    highb = p\n",
    "    r = random.randint(p, q)\n",
    "\n",
    "    pivot = A[r]\n",
    "    A[r], A[q] = A[q], A[r]\n",
    "\n",
    "    while highb <= q-1:\n",
    "        if A[highb] <= pivot:\n",
    "            A[highb], A[lowb] = A[lowb], A[highb]\n",
    "            lowb+=1\n",
    "            highb+=1\n",
    "        else:\n",
    "            highb+=1\n",
    "\n",
    "    A[lowb], A[q] = A[q], A[lowb]\n",
    "    return lowb"
   ]
  },
  {
   "cell_type": "code",
   "execution_count": 127,
   "metadata": {},
   "outputs": [],
   "source": [
    "def random_selection(A:list, p:int, q:int, i:int) -> int:\n",
    "    if p==q: \n",
    "        return A[p]\n",
    "    \n",
    "    pivot = partition(A, p, q)\n",
    "    k = pivot - p + 1\n",
    "    if i == k:\n",
    "        return A[pivot]\n",
    "    if i < k:\n",
    "        return random_selection(A, p, pivot-1, i)\n",
    "    else:\n",
    "        return random_selection(A, pivot+1, q, i-k)"
   ]
  },
  {
   "cell_type": "code",
   "execution_count": 128,
   "metadata": {},
   "outputs": [
    {
     "name": "stdout",
     "output_type": "stream",
     "text": [
      "2\n"
     ]
    }
   ],
   "source": [
    "A = [4, 8, 4, 0, 2, 7, 3, 8, 2, 1, 0, 6]\n",
    "result = random_selection(A, 0, len(A)-1, 4)\n",
    "print(result)"
   ]
  }
 ],
 "metadata": {
  "kernelspec": {
   "display_name": "Python 3",
   "language": "python",
   "name": "python3"
  },
  "language_info": {
   "codemirror_mode": {
    "name": "ipython",
    "version": 3
   },
   "file_extension": ".py",
   "mimetype": "text/x-python",
   "name": "python",
   "nbconvert_exporter": "python",
   "pygments_lexer": "ipython3",
   "version": "3.9.12"
  },
  "orig_nbformat": 4
 },
 "nbformat": 4,
 "nbformat_minor": 2
}
