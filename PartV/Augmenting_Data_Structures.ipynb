{
 "cells": [
  {
   "attachments": {},
   "cell_type": "markdown",
   "metadata": {},
   "source": [
    "## Red-black Tree for Sorted Statics"
   ]
  },
  {
   "cell_type": "code",
   "execution_count": 1,
   "metadata": {},
   "outputs": [],
   "source": [
    "def OS_Select(x: Node, i: int) -> Node:\n",
    "    '''\n",
    "    Select the ith rank node in the subtree rooted at x.\n",
    "\n",
    "    x: root of the subtree\n",
    "    i: the rank of the targeted node\n",
    "    return: the node found\n",
    "    '''\n",
    "    r = x.left.size + 1\n",
    "    if i == r:\n",
    "        return x\n",
    "    elif i < r:\n",
    "        return OS_Select(x.left, i)\n",
    "    else:\n",
    "        return OS_Select(x.right, i-r)"
   ]
  },
  {
   "cell_type": "code",
   "execution_count": null,
   "metadata": {},
   "outputs": [],
   "source": [
    "def OS_Rank(T:Tree, x:Node) -> int:\n",
    "    '''\n",
    "    Find the rank of the given node.\n",
    "\n",
    "    T: the tree\n",
    "    x: the node whose rank is wanted\n",
    "    return: the rank of x\n",
    "    '''\n",
    "    rank = 0\n",
    "    pointer = T.root\n",
    "    while x.key != pointer.key and pointer is not T.nil:\n",
    "        if x.key <= pointer.ley:\n",
    "            pointer = pointer.left\n",
    "        else:\n",
    "            pointer = pointer.right\n",
    "            rank += pointer.parent.left.size + 1\n",
    "    return rank + pointer.left.size + 1"
   ]
  }
 ],
 "metadata": {
  "kernelspec": {
   "display_name": "Python 3",
   "language": "python",
   "name": "python3"
  },
  "language_info": {
   "codemirror_mode": {
    "name": "ipython",
    "version": 3
   },
   "file_extension": ".py",
   "mimetype": "text/x-python",
   "name": "python",
   "nbconvert_exporter": "python",
   "pygments_lexer": "ipython3",
   "version": "3.9.12"
  },
  "orig_nbformat": 4
 },
 "nbformat": 4,
 "nbformat_minor": 2
}
